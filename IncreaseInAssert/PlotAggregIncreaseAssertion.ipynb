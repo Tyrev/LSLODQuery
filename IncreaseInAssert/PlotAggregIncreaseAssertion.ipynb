{
 "cells": [
  {
   "cell_type": "code",
   "execution_count": 1,
   "metadata": {
    "collapsed": true
   },
   "outputs": [],
   "source": [
    "#Generating the Statistical significant growth in assertions"
   ]
  },
  {
   "cell_type": "code",
   "execution_count": null,
   "metadata": {
    "collapsed": true
   },
   "outputs": [],
   "source": [
    "import networkx as nx\n",
    "import numpy as np\n",
    "import pandas as pd\n",
    "from copy import deepcopy\n",
    "from SPARQLWrapper import SPARQLWrapper, JSON, POSTDIRECTLY\n",
    "from utils import MatrixIO\n",
    "mfio = MatrixIO()"
   ]
  },
  {
   "cell_type": "code",
   "execution_count": null,
   "metadata": {
    "collapsed": true
   },
   "outputs": [],
   "source": [
    "def get_simple_results_normal(endpoint, query, limres = False):\n",
    "    sparql = SPARQLWrapper(endpoint)\n",
    "    sparql.setQuery(query)\n",
    "    sparql.setReturnFormat(JSON)\n",
    "    sparql.setTimeout(3600000)\n",
    "    #sparql.setCredentials(\"admin\", \"admin\")\n",
    "    if limres: sparql.addExtraURITag(\"limit\", \"1000\")\n",
    "    try: \n",
    "        results = sparql.query().convert()\n",
    "        #print results\n",
    "        #results = process_xml_results(results)\n",
    "    except Exception:\n",
    "        print \"Error encountered for \" + query\n",
    "        return None\n",
    "    return results\n",
    "\n",
    "def _idquery(iden):\n",
    "    q1 = \"SELECT DISTINCT ?p ?o WHERE {{<\"+iden+\"> ?p ?o} UNION {?o ?p <\"+iden+\">}}\"\n",
    "    results = get_simple_results_normal(spq, q1)\n",
    "    res_pair = {}\n",
    "    for res in results[\"results\"][\"bindings\"]:\n",
    "        if not res[\"p\"][\"value\"] in res_pair: res_pair[res[\"p\"][\"value\"]] = set([])\n",
    "        res_pair[res[\"p\"][\"value\"]].add(res[\"o\"][\"value\"])\n",
    "    return res_pair\n",
    "\n",
    "def _ebiquery(iden):\n",
    "    #q1 = \"PREFIX skos: <http://www.w3.org/2004/02/skos/core#> \n",
    "    #   SELECT DISTINCT ?p ?o WHERE {?x skos:exactMatch <\" +iden + \">. {{?x ?p ?o} UNION {?o ?p ?x}}}\"\n",
    "    #print q1\n",
    "    q1 = \"SELECT DISTINCT ?p ?o WHERE {{<\"+iden+\"> ?p ?o} UNION {?o ?p <\"+iden+\">}}\"\n",
    "    results = get_simple_results_normal(uniprotq, q1, limres=True)\n",
    "    print iden, len(results[\"results\"][\"bindings\"])\n",
    "    res_pair = {}\n",
    "    for res in results[\"results\"][\"bindings\"]:\n",
    "        if not res[\"p\"][\"value\"] in res_pair: res_pair[res[\"p\"][\"value\"]] = set([])\n",
    "        res_pair[res[\"p\"][\"value\"]].add(res[\"o\"][\"value\"])\n",
    "    return res_pair\n",
    "\n",
    "def _ebiquery_col(col, _df=drug_ids):\n",
    "    _set = {}\n",
    "    ccount = 0\n",
    "    unique_pred = set([])\n",
    "    for k in list(_df[col]):\n",
    "        ccount +=1\n",
    "        cbidp = k.split(\":\")\n",
    "        #cbid = \"http://purl.obolibrary.org/obo/CHEBI_\" + cbidp[len(cbidp)-1]\n",
    "        #cbid = \"http://rdf.ebi.ac.uk/resource/ensembl/\" + cbidp[len(cbidp)-1]\n",
    "        cbid = \"http://purl.uniprot.org/uniprot/\" + cbidp[len(cbidp)-1]\n",
    "        _set[k] = _ebiquery(cbid)\n",
    "        unique_pred = unique_pred.union(_set[k].keys())\n",
    "        print k, ccount, len(_set[k])\n",
    "    return _set, unique_pred\n",
    "\n",
    "def _query_col(col, _df=drug_ids):\n",
    "    _set = {}\n",
    "    ccount = 0\n",
    "    unique_pred = set([])\n",
    "    for k in list(_df[col]):\n",
    "        ccount +=1\n",
    "        _set[k] = _idquery(k)\n",
    "        unique_pred = unique_pred.union(_set[k].keys())\n",
    "        print k, ccount, len(_set[k])\n",
    "    return _set, unique_pred"
   ]
  },
  {
   "cell_type": "code",
   "execution_count": null,
   "metadata": {
    "collapsed": true
   },
   "outputs": [],
   "source": [
    "def getiddict(_ids):\n",
    "    _ids_dict = _ids.set_index(\"x\")\n",
    "    _ids_dict = _ids_dict.to_dict(orient=\"index\")\n",
    "    return _ids_dict\n",
    "\n",
    "def get_base(_data):\n",
    "    _base = {}\n",
    "    for k in _data:\n",
    "        if not k in _base: _base[k] = {}\n",
    "        for m in _data[k]:\n",
    "            if m in allowed_preds:\n",
    "                _base[k][m] = _data[k][m]\n",
    "    return _base\n",
    "\n",
    "def append_base(_data, _ids, dtype, _oddata):\n",
    "    upddata = deepcopy(_data)\n",
    "    for k in _data:\n",
    "        #print _ids[k][dtype]\n",
    "        if not _ids[k][dtype] in _oddata: continue\n",
    "        m = _ids[k][dtype]\n",
    "        for n in _oddata[m]:\n",
    "            if not n in allowed_preds: continue\n",
    "            upddata[k][n] = _oddata[m][n]\n",
    "    return upddata\n",
    "\n",
    "def get_box_data(_data, dset_name, dtype):\n",
    "    bx = {}\n",
    "    for k in _data:\n",
    "        ccount = 0\n",
    "        for m in _data[k]: ccount += len(_data[k][m])\n",
    "        bx[k] = {\"count\": ccount, \"dset\": dset_name, \"type\": dtype}\n",
    "    return bx"
   ]
  },
  {
   "cell_type": "code",
   "execution_count": null,
   "metadata": {
    "collapsed": true
   },
   "outputs": [],
   "source": [
    "ebiq = \"https://www.ebi.ac.uk/rdf/services/sparql\"\n",
    "uniprotq = \"http://sparql.uniprot.org/sparql\"\n",
    "spq = \"http://bio2rdf.org/sparql/\"\n",
    "#_ebiquery(\"http://purl.obolibrary.org/obo/CHEBI_46195\")"
   ]
  },
  {
   "cell_type": "code",
   "execution_count": null,
   "metadata": {
    "collapsed": true
   },
   "outputs": [],
   "source": [
    "#--------------------------------------------------------------------------"
   ]
  },
  {
   "cell_type": "code",
   "execution_count": null,
   "metadata": {
    "collapsed": true
   },
   "outputs": [],
   "source": [
    "#Read all drug identifiers and query each individually against each source ...\n",
    "drug_ids = pd.read_csv(\"sparql1.csv\", sep=\",\")\n",
    "drug_ids.head()"
   ]
  },
  {
   "cell_type": "code",
   "execution_count": null,
   "metadata": {
    "collapsed": true
   },
   "outputs": [],
   "source": [
    "drugbank_data, drugbank_preds = _query_col('x')\n",
    "kegg_data, kegg_preds = _query_col(\"kegg\")\n",
    "pharmgkb_data, pharmgkb_preds = _query_col(\"pharmgkb\")\n",
    "ctd_data, ctd_preds = _query_col(\"mesh\")\n",
    "chembl_data, chembl_preds = _ebiquery_col(\"chebi\")\n",
    "#for k in kegg_preds: print k"
   ]
  },
  {
   "cell_type": "code",
   "execution_count": null,
   "metadata": {
    "collapsed": true
   },
   "outputs": [],
   "source": [
    "mfio.save_matrix(chembl_data, \"chembl_data.dat\")\n",
    "mfio.save_matrix(drugbank_data, \"drugbank_data.dat\")\n",
    "mfio.save_matrix(kegg_data, \"kegg_data.dat\")\n",
    "mfio.save_matrix(pharmgkb_data, \"pharmgkb_data.dat\")\n",
    "mfio.save_matrix(ctd_data, \"ctd_data.dat\")"
   ]
  },
  {
   "cell_type": "code",
   "execution_count": 2,
   "metadata": {
    "collapsed": true
   },
   "outputs": [],
   "source": [
    "#--------------------------------------------------------------------------"
   ]
  },
  {
   "cell_type": "code",
   "execution_count": null,
   "metadata": {
    "collapsed": true
   },
   "outputs": [],
   "source": [
    "dise_ids = pd.read_csv(\"sparql2.csv\", sep=\",\")\n",
    "dise_ids.head()"
   ]
  },
  {
   "cell_type": "code",
   "execution_count": null,
   "metadata": {
    "collapsed": true
   },
   "outputs": [],
   "source": [
    "keggdise_data, keggdise_preds = _query_col(\"x\", dise_ids)\n",
    "ctddise_data, ctddise_preds = _query_col(\"mesh\", dise_ids)\n",
    "pgkdise_data, pgkdise_preds = _query_col(\"pharmgkb\", dise_ids)"
   ]
  },
  {
   "cell_type": "code",
   "execution_count": null,
   "metadata": {
    "collapsed": true
   },
   "outputs": [],
   "source": [
    "mfio.save_matrix(keggdise_data, \"keggdise_data.dat\")\n",
    "mfio.save_matrix(pgkdise_data, \"pharmgkbdise_data.dat\")\n",
    "mfio.save_matrix(ctddise_data, \"ctddise_data.dat\")"
   ]
  },
  {
   "cell_type": "code",
   "execution_count": null,
   "metadata": {
    "collapsed": true
   },
   "outputs": [],
   "source": [
    "#--------------------------------------------------------------------------"
   ]
  },
  {
   "cell_type": "code",
   "execution_count": null,
   "metadata": {
    "collapsed": true
   },
   "outputs": [],
   "source": [
    "protein_ids = pd.read_csv(\"sparql3.csv\", sep=\",\")\n",
    "protein_ids.head()"
   ]
  },
  {
   "cell_type": "code",
   "execution_count": null,
   "metadata": {
    "collapsed": true
   },
   "outputs": [],
   "source": [
    "drugbankprot_data, drugbankprot_preds = _query_col('x', protein_ids)\n",
    "keggprot_data, keggprot_preds = _query_col('kegg', protein_ids)\n",
    "pharmgkbprot_data, pharmgkbprot_preds = _query_col('pharmgkb', protein_ids)\n",
    "ctdprot_data, ctdprot_preds = _query_col('ncbigene', protein_ids)\n",
    "ensembl_data, ensembl_preds = _ebiquery_col(\"ensembl\", protein_ids)\n",
    "uniprot_data, uniprot_preds = _ebiquery_col(\"uniprot\", protein_ids)"
   ]
  },
  {
   "cell_type": "code",
   "execution_count": null,
   "metadata": {
    "collapsed": true
   },
   "outputs": [],
   "source": [
    "mfio.save_matrix(ensembl_data, \"ensembl_data.dat\")\n",
    "mfio.save_matrix(uniprot_data, \"uniprot_data.dat\")\n",
    "mfio.save_matrix(drugbankprot_data, \"drugbankprot_data.dat\")\n",
    "mfio.save_matrix(keggprot_data, \"keggprot_data.dat\")\n",
    "mfio.save_matrix(pharmgkbprot_data, \"pharmgkbprot_data.dat\")\n",
    "mfio.save_matrix(ctdprot_data, \"ctdprot_data.dat\")"
   ]
  },
  {
   "cell_type": "code",
   "execution_count": null,
   "metadata": {
    "collapsed": true
   },
   "outputs": [],
   "source": [
    "#--------------------------------------------------------------------------"
   ]
  },
  {
   "cell_type": "code",
   "execution_count": null,
   "metadata": {
    "collapsed": true
   },
   "outputs": [],
   "source": [
    "drug_ids_dict = getiddict(drug_ids)\n",
    "dise_ids_dict = getiddict(dise_ids)\n",
    "prot_ids_dict = getiddict(protein_ids)"
   ]
  },
  {
   "cell_type": "code",
   "execution_count": null,
   "metadata": {
    "collapsed": true
   },
   "outputs": [],
   "source": [
    "all_preds = set([])\n",
    "all_preds = all_preds.union(ensembl_preds)\n",
    "all_preds = all_preds.union(uniprot_preds)\n",
    "all_preds = all_preds.union(drugbankprot_preds)\n",
    "all_preds = all_preds.union(keggprot_preds)\n",
    "all_preds = all_preds.union(ctdprot_preds)\n",
    "all_preds = all_preds.union(pharmgkbprot_preds)\n",
    "all_preds = all_preds.union(pgkdise_preds)\n",
    "all_preds = all_preds.union(keggdise_preds)\n",
    "all_preds = all_preds.union(ctddise_preds)\n",
    "all_preds = all_preds.union(pharmgkb_preds)\n",
    "all_preds = all_preds.union(drugbank_preds)\n",
    "all_preds = all_preds.union(kegg_preds)\n",
    "all_preds = all_preds.union(ctd_preds)\n",
    "all_preds = all_preds.union(chembl_preds)"
   ]
  },
  {
   "cell_type": "code",
   "execution_count": null,
   "metadata": {
    "collapsed": true
   },
   "outputs": [],
   "source": [
    "all_predsf = open(\"all_predsasda.csv\", \"w+\")\n",
    "for k in all_preds: all_predsf.write(k + \"\\n\")\n",
    "all_predsf.close()"
   ]
  },
  {
   "cell_type": "code",
   "execution_count": null,
   "metadata": {
    "collapsed": true
   },
   "outputs": [],
   "source": [
    "#select the predicates to use from mapping rules/CANCO .....\n",
    "allowed_preds = pd.read_csv(\"all_preds1.csv\", sep=\"\\t\", header=None)\n",
    "allowed_preds = list(allowed_preds[0])\n",
    "print len(allowed_preds)"
   ]
  },
  {
   "cell_type": "code",
   "execution_count": null,
   "metadata": {
    "collapsed": true
   },
   "outputs": [],
   "source": [
    "#--------------------------------------------------------------------------"
   ]
  },
  {
   "cell_type": "code",
   "execution_count": null,
   "metadata": {
    "collapsed": true
   },
   "outputs": [],
   "source": [
    "drugs_data = {}\n",
    "prots_data = {}\n",
    "dises_data = {}\n",
    "\n",
    "drugs_data = get_base(drugbank_data)\n",
    "prots_data = get_base(drugbankprot_data)\n",
    "dises_data = get_base(keggdise_data)"
   ]
  },
  {
   "cell_type": "code",
   "execution_count": null,
   "metadata": {
    "collapsed": true
   },
   "outputs": [],
   "source": [
    "drugs1_data = append_base(drugs_data, drug_ids_dict, \"kegg\", kegg_data)\n",
    "drugs2_data = append_base(drugs1_data, drug_ids_dict, \"pharmgkb\", pharmgkb_data)\n",
    "drugs3_data = append_base(drugs2_data, drug_ids_dict, \"mesh\", ctd_data)\n",
    "drugs4_data = append_base(drugs3_data, drug_ids_dict, \"chebi\", chembl_data)"
   ]
  },
  {
   "cell_type": "code",
   "execution_count": null,
   "metadata": {
    "collapsed": true
   },
   "outputs": [],
   "source": [
    "prots1_data = append_base(prots_data, prot_ids_dict, \"kegg\", keggprot_data)\n",
    "prots2_data = append_base(prots1_data, prot_ids_dict, \"pharmgkb\", pharmgkbprot_data)\n",
    "prots3_data = append_base(prots2_data, prot_ids_dict, \"ncbigene\", ctdprot_data)\n",
    "prots4_data = append_base(prots3_data, prot_ids_dict, \"ensembl\", ensembl_data)\n",
    "prots5_data = append_base(prots4_data, prot_ids_dict, \"uniprot\", uniprot_data)"
   ]
  },
  {
   "cell_type": "code",
   "execution_count": null,
   "metadata": {
    "collapsed": true
   },
   "outputs": [],
   "source": [
    "dises1_data = append_base(dises_data, dise_ids_dict, \"pharmgkb\", pgkdise_data)\n",
    "dises2_data = append_base(dises1_data, dise_ids_dict, \"mesh\", ctddise_data)"
   ]
  },
  {
   "cell_type": "code",
   "execution_count": null,
   "metadata": {
    "collapsed": true
   },
   "outputs": [],
   "source": [
    "#--------------------------------------------------------------------------"
   ]
  },
  {
   "cell_type": "code",
   "execution_count": null,
   "metadata": {
    "collapsed": true
   },
   "outputs": [],
   "source": [
    "bx1 = get_box_data(drugs_data, \"1-DrugBank\", \"Drug\")\n",
    "bx2 = get_box_data(drugs1_data, \"2-KEGG\", \"Drug\")\n",
    "bx3 = get_box_data(drugs2_data, \"3-PharmGKB\", \"Drug\")\n",
    "bx4 = get_box_data(drugs3_data, \"4-CTD\", \"Drug\")\n",
    "bx5 = get_box_data(drugs4_data, \"5-EBIRDF\", \"Drug\")"
   ]
  },
  {
   "cell_type": "code",
   "execution_count": null,
   "metadata": {
    "collapsed": true
   },
   "outputs": [],
   "source": [
    "pbx1 = get_box_data(prots_data, \"1-DrugBank\", \"Protein\")\n",
    "pbx2 = get_box_data(prots1_data, \"2-KEGG\", \"Protein\")\n",
    "pbx3 = get_box_data(prots2_data, \"3-PharmGKB\", \"Protein\")\n",
    "pbx4 = get_box_data(prots3_data, \"4-CTD\", \"Protein\")\n",
    "pbx5 = get_box_data(prots4_data, \"5-EBIRDF\", \"Protein\")\n",
    "pbx6 = get_box_data(prots5_data, \"6-UniProt\", \"Protein\")"
   ]
  },
  {
   "cell_type": "code",
   "execution_count": null,
   "metadata": {
    "collapsed": true
   },
   "outputs": [],
   "source": [
    "dbx2 = get_box_data(dises_data, \"2-KEGG\", \"Disease\")\n",
    "dbx3 = get_box_data(dises1_data, \"3-PharmGKB\", \"Disease\")\n",
    "dbx4 = get_box_data(dises2_data, \"4-CTD\", \"Disease\")"
   ]
  },
  {
   "cell_type": "code",
   "execution_count": null,
   "metadata": {
    "collapsed": true
   },
   "outputs": [],
   "source": [
    "#--------------------------------------------------------------------------"
   ]
  },
  {
   "cell_type": "code",
   "execution_count": null,
   "metadata": {
    "collapsed": true
   },
   "outputs": [],
   "source": [
    "cbound = pd.DataFrame.from_dict(bx1, orient=\"index\")\n",
    "cbound = cbound.reset_index()\n",
    "cbound.head()"
   ]
  },
  {
   "cell_type": "code",
   "execution_count": null,
   "metadata": {
    "collapsed": true
   },
   "outputs": [],
   "source": [
    "def _append_bx(bx, cbound):\n",
    "    cbound1 = pd.DataFrame.from_dict(bx, orient=\"index\")\n",
    "    cbound1 = cbound1.reset_index()\n",
    "    cbound = pd.concat([cbound, cbound1], axis=0)\n",
    "    print cbound.shape\n",
    "    return cbound\n",
    "\n",
    "def _append_blankbx(_base, cbound, iden, dtype):\n",
    "    bx = {}\n",
    "    for k in _base:\n",
    "        bx[k] = {\"count\": _base[k][\"count\"], \"dset\": iden, \"type\": dtype}\n",
    "    cbound1 = pd.DataFrame.from_dict(bx, orient=\"index\")\n",
    "    cbound1 = cbound1.reset_index()\n",
    "    cbound = pd.concat([cbound, cbound1], axis=0)\n",
    "    print cbound.shape\n",
    "    return cbound\n",
    "    \n",
    "cbound = _append_bx(bx2, cbound) \n",
    "cbound = _append_bx(bx3, cbound) \n",
    "cbound = _append_bx(bx4, cbound) \n",
    "cbound = _append_bx(bx5, cbound) \n",
    "cbound = _append_bx(pbx1, cbound) \n",
    "cbound = _append_bx(pbx2, cbound) \n",
    "cbound = _append_bx(pbx3, cbound) \n",
    "cbound = _append_bx(pbx4, cbound)\n",
    "cbound = _append_bx(pbx5, cbound) \n",
    "cbound = _append_bx(pbx6, cbound)\n",
    "cbound = _append_bx(dbx2, cbound) \n",
    "cbound = _append_bx(dbx3, cbound) \n",
    "cbound = _append_bx(dbx4, cbound)"
   ]
  },
  {
   "cell_type": "code",
   "execution_count": null,
   "metadata": {
    "collapsed": true
   },
   "outputs": [],
   "source": [
    "#wait here ---- \n",
    "#cbound = _append_blankbx(drugs4_data, \"6-UniProt\", \"Drug\")"
   ]
  },
  {
   "cell_type": "code",
   "execution_count": null,
   "metadata": {
    "collapsed": true
   },
   "outputs": [],
   "source": [
    "cbound.to_csv(\"cbound_agg.tsv\", sep=\"\\t\", index=None)"
   ]
  },
  {
   "cell_type": "code",
   "execution_count": null,
   "metadata": {
    "collapsed": true
   },
   "outputs": [],
   "source": [
    "for k in bx1: print k, bx1[k][\"count\"], bx2[k][\"count\"], bx3[k][\"count\"], bx4[k][\"count\"], bx5[k][\"count\"]\n",
    "for k in pbx1: print k, pbx1[k][\"count\"], pbx2[k][\"count\"], pbx3[k][\"count\"], pbx4[k][\"count\"], pbx5[k][\"count\"], pbx6[k][\"count\"]\n",
    "for k in dbx2: print k, dbx2[k][\"count\"], dbx3[k][\"count\"], dbx4[k][\"count\"]"
   ]
  },
  {
   "cell_type": "code",
   "execution_count": null,
   "metadata": {
    "collapsed": true
   },
   "outputs": [],
   "source": [
    "# Check R plot for more .... "
   ]
  }
 ],
 "metadata": {
  "kernelspec": {
   "display_name": "Python 2",
   "language": "python",
   "name": "python2"
  },
  "language_info": {
   "codemirror_mode": {
    "name": "ipython",
    "version": 2
   },
   "file_extension": ".py",
   "mimetype": "text/x-python",
   "name": "python",
   "nbconvert_exporter": "python",
   "pygments_lexer": "ipython2",
   "version": "2.7.10"
  }
 },
 "nbformat": 4,
 "nbformat_minor": 0
}
